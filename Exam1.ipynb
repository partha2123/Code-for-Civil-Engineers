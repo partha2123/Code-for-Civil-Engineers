{
 "cells": [
  {
   "cell_type": "code",
   "execution_count": null,
   "id": "4b81c927",
   "metadata": {},
   "outputs": [],
   "source": [
    "#defining the function\n",
    "f = lambda d:d**5 - 12*d**4 + 16**2 / (3.14**2 * 0.6**2 * 32.2)\n",
    "#first derivative of the funtion\n",
    "f_1 = lambda d: d**4-12*4*d**3 \n",
    "\n",
    "# Taking guess value of 10\n",
    "diameter = 10 - (10/f_1(10))\n",
    "\n",
    "# Taking guess value of 9\n",
    "diameter = 9 - (9/f_1(9))\n",
    "\n",
    "print(\"Diameter of the pipe =\", diameter)"
   ]
  }
 ],
 "metadata": {
  "kernelspec": {
   "display_name": "Python 3 (ipykernel)",
   "language": "python",
   "name": "python3"
  },
  "language_info": {
   "codemirror_mode": {
    "name": "ipython",
    "version": 3
   },
   "file_extension": ".py",
   "mimetype": "text/x-python",
   "name": "python",
   "nbconvert_exporter": "python",
   "pygments_lexer": "ipython3",
   "version": "3.9.12"
  }
 },
 "nbformat": 4,
 "nbformat_minor": 5
}
